{
  "nbformat": 4,
  "nbformat_minor": 0,
  "metadata": {
    "colab": {
      "provenance": [],
      "authorship_tag": "ABX9TyOlUK9O192K6s0xv2vSmJjw",
      "include_colab_link": true
    },
    "kernelspec": {
      "name": "python3",
      "display_name": "Python 3"
    },
    "language_info": {
      "name": "python"
    }
  },
  "cells": [
    {
      "cell_type": "markdown",
      "metadata": {
        "id": "view-in-github",
        "colab_type": "text"
      },
      "source": [
        "<a href=\"https://colab.research.google.com/github/yatdev/note/blob/main/note_magazine_programming.ipynb\" target=\"_parent\"><img src=\"https://colab.research.google.com/assets/colab-badge.svg\" alt=\"Open In Colab\"/></a>"
      ]
    },
    {
      "cell_type": "markdown",
      "source": [
        "## #2 準備"
      ],
      "metadata": {
        "id": "OIY7BIbqNWFt"
      }
    },
    {
      "cell_type": "code",
      "execution_count": null,
      "metadata": {
        "id": "cRJhkYUs90-6"
      },
      "outputs": [],
      "source": [
        "greet = \"Hello world!\"\n",
        "print(greet)"
      ]
    },
    {
      "cell_type": "markdown",
      "source": [
        "## #3 プログラムからChatGPTを操作する"
      ],
      "metadata": {
        "id": "48ZtCs9KNjxj"
      }
    },
    {
      "cell_type": "code",
      "source": [
        "from openai import OpenAI\n",
        "from google.colab import userdata\n",
        "\n",
        "# APIキーを取得しapi_key変数に格納\n",
        "api_key = userdata.get('OPENAI_API_KEY')\n",
        "\n",
        "# OpenAIクライアントの準備。APIキーを渡している\n",
        "client = OpenAI(api_key=api_key)\n",
        "\n",
        "# ChatGPTにプロンプトを送信\n",
        "response = client.chat.completions.create(\n",
        "    model=\"gpt-5-nano\",\n",
        "    messages=[\n",
        "        {\"role\": \"user\", \"content\": \"こんにちは😀\"}\n",
        "    ]\n",
        ")\n",
        "\n",
        "# 回答を表示\n",
        "print(response.choices[0].message.content)"
      ],
      "metadata": {
        "id": "POF5TZunNSj9"
      },
      "execution_count": null,
      "outputs": []
    },
    {
      "cell_type": "markdown",
      "source": [
        "## #4 リストをChatGPTに処理させる"
      ],
      "metadata": {
        "id": "B--iysAMVOi-"
      }
    },
    {
      "cell_type": "code",
      "source": [
        "from openai import OpenAI\n",
        "from google.colab import userdata\n",
        "\n",
        "# APIキーを取得\n",
        "api_key = userdata.get('OPENAI_API_KEY')\n",
        "client = OpenAI(api_key=api_key)\n",
        "\n",
        "# 英語タイトルのリスト\n",
        "titles = [\n",
        "    \"How AI is Transforming Healthcare\",\n",
        "    \"The Future of Machine Learning in Business\",\n",
        "    \"Deep Learning Applications in Natural Language Processing\"\n",
        "]\n",
        "\n",
        "# 各タイトルを翻訳\n",
        "for title in titles:\n",
        "    response = client.chat.completions.create(\n",
        "        model=\"gpt-5-nano\",\n",
        "        messages=[\n",
        "            {\"role\": \"user\", \"content\": f\"次の英語タイトルを自然な日本語に翻訳してください。アウトプットは翻訳したタイトルのみ。英語タイトル: {title}\"}\n",
        "        ]\n",
        "    )\n",
        "\n",
        "    # 翻訳結果をリストに追加\n",
        "    translated_title = response.choices[0].message.content\n",
        "    print(translated_title)\n",
        "    print(\"--------------------------------\")"
      ],
      "metadata": {
        "id": "uiE8B2haVTVZ"
      },
      "execution_count": null,
      "outputs": []
    },
    {
      "cell_type": "markdown",
      "source": [
        "## #5 条件分岐を使った処理"
      ],
      "metadata": {
        "id": "5EvkGfDhbkY0"
      }
    },
    {
      "cell_type": "code",
      "source": [
        "from openai import OpenAI\n",
        "from google.colab import userdata\n",
        "\n",
        "# APIキーを取得\n",
        "api_key = userdata.get('OPENAI_API_KEY')\n",
        "client = OpenAI(api_key=api_key)\n",
        "\n",
        "# 英語タイトルのリスト\n",
        "titles = [\n",
        "    \"How AI is Transforming Healthcare\",\n",
        "    \"The Future of Machine Learning in Business\",\n",
        "    \"Deep Learning Applications in Natural Language Processing\"\n",
        "]\n",
        "\n",
        "# 各タイトルを翻訳\n",
        "for title in titles:\n",
        "    # タイトルに \"AI\" という単語が含まれている場合のみ、以下の処理を実行\n",
        "    if \"AI\" in title:\n",
        "        response = client.chat.completions.create(\n",
        "            model=\"gpt-4o-mini\",  # モデル名を現在推奨されているものに変更しました\n",
        "            messages=[\n",
        "                {\"role\": \"user\", \"content\": f\"次の英語タイトルを自然な日本語に翻訳してください。アウトプットは翻訳したタイトルのみ。英語タイトル: {title}\"}\n",
        "            ]\n",
        "        )\n",
        "\n",
        "        # 翻訳結果を取得して出力\n",
        "        translated_title = response.choices[0].message.content\n",
        "        print(translated_title)\n",
        "        print(\"--------------------------------\")"
      ],
      "metadata": {
        "id": "26eU-pZ_brRb"
      },
      "execution_count": null,
      "outputs": []
    },
    {
      "cell_type": "markdown",
      "source": [],
      "metadata": {
        "id": "IQNMN89vffkC"
      }
    },
    {
      "cell_type": "markdown",
      "source": [
        "## #5-1 AIが含まれてない場合の処理"
      ],
      "metadata": {
        "id": "w5-4MwASfbsq"
      }
    },
    {
      "cell_type": "code",
      "source": [
        "from openai import OpenAI\n",
        "from google.colab import userdata\n",
        "\n",
        "# APIキーを取得\n",
        "api_key = userdata.get('OPENAI_API_KEY')\n",
        "client = OpenAI(api_key=api_key)\n",
        "\n",
        "# 英語タイトルのリスト\n",
        "titles = [\n",
        "    \"How AI is Transforming Healthcare\",\n",
        "    \"The Future of Machine Learning in Business\",\n",
        "    \"Deep Learning Applications in Natural Language Processing\"\n",
        "]\n",
        "\n",
        "# 各タイトルを処理\n",
        "for title in titles:\n",
        "\n",
        "    # タイトルに \"AI\" が含まれているかチェック\n",
        "    if \"AI\" in title:\n",
        "        print(\"-> タイトルにAIが含まれるためスキップします。\")\n",
        "        print(\"--------------------------------\")\n",
        "\n",
        "    else:\n",
        "        # AIが含まれていない場合：翻訳処理を実行\n",
        "        response = client.chat.completions.create(\n",
        "            model=\"gpt-5-nano\",\n",
        "            messages=[\n",
        "                {\"role\": \"user\", \"content\": f\"次の英語タイトルを自然な日本語に翻訳してください。アウトプットは翻訳したタイトルのみ。英語タイトル: {title}\"}\n",
        "            ]\n",
        "        )\n",
        "        translated_title = response.choices[0].message.content\n",
        "        print(translated_title)\n",
        "        print(\"--------------------------------\")"
      ],
      "metadata": {
        "id": "Uig_Lga1er_L"
      },
      "execution_count": null,
      "outputs": []
    },
    {
      "cell_type": "markdown",
      "source": [
        "## #6 ライブラリ"
      ],
      "metadata": {
        "id": "7lRyv3TjDRzi"
      }
    },
    {
      "cell_type": "code",
      "source": [
        "!pip install langdetect"
      ],
      "metadata": {
        "id": "LWAUpiyABDUk"
      },
      "execution_count": null,
      "outputs": []
    },
    {
      "cell_type": "code",
      "source": [
        "from openai import OpenAI\n",
        "from google.colab import userdata\n",
        "from langdetect import detect\n",
        "\n",
        "# APIキーを取得\n",
        "api_key = userdata.get('OPENAI_API_KEY')\n",
        "client = OpenAI(api_key=api_key)\n",
        "\n",
        "titles = [\n",
        "    \"How AI is Transforming Healthcare\",\n",
        "    \"ビジネスにおける機械学習の未来\",\n",
        "    \"The Future of Machine Learning in Business\",\n",
        "]\n",
        "\n",
        "# 各タイトルを処理\n",
        "for title in titles:\n",
        "    if detect(title) == 'en':\n",
        "        response = client.chat.completions.create(\n",
        "            model=\"gpt-5-nano\",\n",
        "            messages=[\n",
        "                {\"role\": \"user\", \"content\": f\"次の英語タイトルを自然な日本語に翻訳してください。アウトプットは翻訳したタイトルのみ。英語タイトル: {title}\"}\n",
        "            ]\n",
        "        )\n",
        "\n",
        "        # 翻訳結果を出力\n",
        "        translated_title = response.choices[0].message.content\n",
        "        print(f\"翻訳結果: {translated_title}\")\n",
        "\n",
        "    # タイトルが英語でなかった場合\n",
        "    else:\n",
        "        print(f\"英語ではないためスキップしました❌\")\n",
        "\n",
        "    print(\"--------------------------------\")"
      ],
      "metadata": {
        "id": "k0i11ahzBAcJ"
      },
      "execution_count": null,
      "outputs": []
    }
  ]
}